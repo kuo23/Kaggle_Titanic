{
 "cells": [
  {
   "cell_type": "markdown",
   "metadata": {},
   "source": [
    "# Kaggle - Titanic: Machine Learning from Disaster\n"
   ]
  },
  {
   "cell_type": "code",
   "execution_count": 82,
   "metadata": {},
   "outputs": [],
   "source": [
    "# 資料處理\n",
    "import pandas as pd\n",
    "import numpy as np\n",
    "from sklearn.preprocessing import StandardScaler\n",
    "# 模型\n",
    "from keras.models import Sequential  \n",
    "from keras.layers import Dense, Activation,Dropout  \n",
    "from keras.optimizers import RMSprop  \n",
    "from keras.utils import np_utils  \n",
    "\n",
    "#繪圖\n",
    "import matplotlib.pyplot as plt"
   ]
  },
  {
   "cell_type": "markdown",
   "metadata": {},
   "source": [
    "## 整理資料"
   ]
  },
  {
   "cell_type": "code",
   "execution_count": 83,
   "metadata": {},
   "outputs": [],
   "source": [
    "train_data = pd.read_csv(\"train.csv\")\n",
    "test_data = pd.read_csv(\"test.csv\")"
   ]
  },
  {
   "cell_type": "code",
   "execution_count": 58,
   "metadata": {
    "scrolled": true
   },
   "outputs": [
    {
     "data": {
      "text/html": [
       "<div>\n",
       "<style scoped>\n",
       "    .dataframe tbody tr th:only-of-type {\n",
       "        vertical-align: middle;\n",
       "    }\n",
       "\n",
       "    .dataframe tbody tr th {\n",
       "        vertical-align: top;\n",
       "    }\n",
       "\n",
       "    .dataframe thead th {\n",
       "        text-align: right;\n",
       "    }\n",
       "</style>\n",
       "<table border=\"1\" class=\"dataframe\">\n",
       "  <thead>\n",
       "    <tr style=\"text-align: right;\">\n",
       "      <th></th>\n",
       "      <th>PassengerId</th>\n",
       "      <th>Survived</th>\n",
       "      <th>Pclass</th>\n",
       "      <th>Name</th>\n",
       "      <th>Sex</th>\n",
       "      <th>Age</th>\n",
       "      <th>SibSp</th>\n",
       "      <th>Parch</th>\n",
       "      <th>Ticket</th>\n",
       "      <th>Fare</th>\n",
       "      <th>Cabin</th>\n",
       "      <th>Embarked</th>\n",
       "    </tr>\n",
       "  </thead>\n",
       "  <tbody>\n",
       "    <tr>\n",
       "      <th>0</th>\n",
       "      <td>1</td>\n",
       "      <td>0</td>\n",
       "      <td>3</td>\n",
       "      <td>Braund, Mr. Owen Harris</td>\n",
       "      <td>male</td>\n",
       "      <td>22.0</td>\n",
       "      <td>1</td>\n",
       "      <td>0</td>\n",
       "      <td>A/5 21171</td>\n",
       "      <td>7.2500</td>\n",
       "      <td>NaN</td>\n",
       "      <td>S</td>\n",
       "    </tr>\n",
       "    <tr>\n",
       "      <th>1</th>\n",
       "      <td>2</td>\n",
       "      <td>1</td>\n",
       "      <td>1</td>\n",
       "      <td>Cumings, Mrs. John Bradley (Florence Briggs Th...</td>\n",
       "      <td>female</td>\n",
       "      <td>38.0</td>\n",
       "      <td>1</td>\n",
       "      <td>0</td>\n",
       "      <td>PC 17599</td>\n",
       "      <td>71.2833</td>\n",
       "      <td>C85</td>\n",
       "      <td>C</td>\n",
       "    </tr>\n",
       "    <tr>\n",
       "      <th>2</th>\n",
       "      <td>3</td>\n",
       "      <td>1</td>\n",
       "      <td>3</td>\n",
       "      <td>Heikkinen, Miss. Laina</td>\n",
       "      <td>female</td>\n",
       "      <td>26.0</td>\n",
       "      <td>0</td>\n",
       "      <td>0</td>\n",
       "      <td>STON/O2. 3101282</td>\n",
       "      <td>7.9250</td>\n",
       "      <td>NaN</td>\n",
       "      <td>S</td>\n",
       "    </tr>\n",
       "    <tr>\n",
       "      <th>3</th>\n",
       "      <td>4</td>\n",
       "      <td>1</td>\n",
       "      <td>1</td>\n",
       "      <td>Futrelle, Mrs. Jacques Heath (Lily May Peel)</td>\n",
       "      <td>female</td>\n",
       "      <td>35.0</td>\n",
       "      <td>1</td>\n",
       "      <td>0</td>\n",
       "      <td>113803</td>\n",
       "      <td>53.1000</td>\n",
       "      <td>C123</td>\n",
       "      <td>S</td>\n",
       "    </tr>\n",
       "    <tr>\n",
       "      <th>4</th>\n",
       "      <td>5</td>\n",
       "      <td>0</td>\n",
       "      <td>3</td>\n",
       "      <td>Allen, Mr. William Henry</td>\n",
       "      <td>male</td>\n",
       "      <td>35.0</td>\n",
       "      <td>0</td>\n",
       "      <td>0</td>\n",
       "      <td>373450</td>\n",
       "      <td>8.0500</td>\n",
       "      <td>NaN</td>\n",
       "      <td>S</td>\n",
       "    </tr>\n",
       "  </tbody>\n",
       "</table>\n",
       "</div>"
      ],
      "text/plain": [
       "   PassengerId  Survived  Pclass  \\\n",
       "0            1         0       3   \n",
       "1            2         1       1   \n",
       "2            3         1       3   \n",
       "3            4         1       1   \n",
       "4            5         0       3   \n",
       "\n",
       "                                                Name     Sex   Age  SibSp  \\\n",
       "0                            Braund, Mr. Owen Harris    male  22.0      1   \n",
       "1  Cumings, Mrs. John Bradley (Florence Briggs Th...  female  38.0      1   \n",
       "2                             Heikkinen, Miss. Laina  female  26.0      0   \n",
       "3       Futrelle, Mrs. Jacques Heath (Lily May Peel)  female  35.0      1   \n",
       "4                           Allen, Mr. William Henry    male  35.0      0   \n",
       "\n",
       "   Parch            Ticket     Fare Cabin Embarked  \n",
       "0      0         A/5 21171   7.2500   NaN        S  \n",
       "1      0          PC 17599  71.2833   C85        C  \n",
       "2      0  STON/O2. 3101282   7.9250   NaN        S  \n",
       "3      0            113803  53.1000  C123        S  \n",
       "4      0            373450   8.0500   NaN        S  "
      ]
     },
     "execution_count": 58,
     "metadata": {},
     "output_type": "execute_result"
    }
   ],
   "source": [
    "train_data.head(5)"
   ]
  },
  {
   "cell_type": "markdown",
   "metadata": {},
   "source": [
    "- PassengerId = 乘客ID\n",
    "- Pclass = 艙等\n",
    "- Name = 姓名\n",
    "- Sex = 性別\n",
    "- Age = 年齡\n",
    "- SibSp = 手足或配偶也在船上\n",
    "- Parch = 雙親或子女也在船上\n",
    "- Ticket = 票號\n",
    "- Fare = 費用\n",
    "- Cabin = 艙位號\n",
    "- Embarked = 登陸港口"
   ]
  },
  {
   "cell_type": "code",
   "execution_count": 4,
   "metadata": {},
   "outputs": [
    {
     "name": "stdout",
     "output_type": "stream",
     "text": [
      "<class 'pandas.core.frame.DataFrame'>\n",
      "RangeIndex: 891 entries, 0 to 890\n",
      "Data columns (total 12 columns):\n",
      "PassengerId    891 non-null int64\n",
      "Survived       891 non-null int64\n",
      "Pclass         891 non-null int64\n",
      "Name           891 non-null object\n",
      "Sex            891 non-null object\n",
      "Age            714 non-null float64\n",
      "SibSp          891 non-null int64\n",
      "Parch          891 non-null int64\n",
      "Ticket         891 non-null object\n",
      "Fare           891 non-null float64\n",
      "Cabin          204 non-null object\n",
      "Embarked       889 non-null object\n",
      "dtypes: float64(2), int64(5), object(5)\n",
      "memory usage: 83.6+ KB\n"
     ]
    }
   ],
   "source": [
    "train_data.info()"
   ]
  },
  {
   "cell_type": "code",
   "execution_count": 5,
   "metadata": {
    "scrolled": true
   },
   "outputs": [
    {
     "name": "stdout",
     "output_type": "stream",
     "text": [
      "<class 'pandas.core.frame.DataFrame'>\n",
      "RangeIndex: 418 entries, 0 to 417\n",
      "Data columns (total 11 columns):\n",
      "PassengerId    418 non-null int64\n",
      "Pclass         418 non-null int64\n",
      "Name           418 non-null object\n",
      "Sex            418 non-null object\n",
      "Age            332 non-null float64\n",
      "SibSp          418 non-null int64\n",
      "Parch          418 non-null int64\n",
      "Ticket         418 non-null object\n",
      "Fare           417 non-null float64\n",
      "Cabin          91 non-null object\n",
      "Embarked       418 non-null object\n",
      "dtypes: float64(2), int64(4), object(5)\n",
      "memory usage: 36.0+ KB\n"
     ]
    }
   ],
   "source": [
    "test_data.info()"
   ]
  },
  {
   "cell_type": "markdown",
   "metadata": {},
   "source": [
    "資料處理"
   ]
  },
  {
   "cell_type": "code",
   "execution_count": 84,
   "metadata": {
    "scrolled": false
   },
   "outputs": [],
   "source": [
    "def sex(row):\n",
    "    if row['Sex'] == 'male':\n",
    "        return 1\n",
    "    else:\n",
    "        return 0\n",
    "    \n",
    "train_data['Sex'] = train_data.apply(sex, axis = 1)\n",
    "test_data['Sex'] = test_data.apply(sex, axis = 1)\n",
    "\n",
    "\n",
    "train_data.Age.fillna(np.nanmedian(train_data['Age']), inplace = True)\n",
    "test_data.Age.fillna(np.nanmedian(train_data['Age']), inplace = True)\n",
    "\n",
    "mean = np.mean(train_data['Age'])\n",
    "std = np.std(train_data['Age'])\n",
    "\n",
    "\n",
    "train_data['Age'] = (train_data['Age'] - mean )/(std)\n",
    "test_data['Age'] = (test_data['Age'] - mean)/(std)"
   ]
  },
  {
   "cell_type": "markdown",
   "metadata": {},
   "source": [
    "採用以下變數"
   ]
  },
  {
   "cell_type": "code",
   "execution_count": 85,
   "metadata": {},
   "outputs": [],
   "source": [
    "features = ['Pclass', 'Sex', 'Age', 'SibSp', 'Parch','Embarked'] \n",
    "train_data_y = train_data['Survived']\n",
    "train_data_x  =  train_data[features]\n",
    "train_data_x  = pd.get_dummies(train_data_x)\n",
    "test_data =  pd.get_dummies(test_data[features])"
   ]
  },
  {
   "cell_type": "markdown",
   "metadata": {},
   "source": [
    "## 建模"
   ]
  },
  {
   "cell_type": "code",
   "execution_count": 87,
   "metadata": {},
   "outputs": [],
   "source": [
    "model=Sequential()  \n",
    "\n",
    "model.add(Dense(10, input_shape=(8, ), activation='relu'))  \n",
    "\n",
    "model.add(Dense(20, activation='relu'))  \n",
    "\n",
    "model.add(Dense(20, activation='relu'))  \n",
    "  \n",
    "model.add(Dense(1, activation='sigmoid'))  \n",
    "\n",
    "rmsprop = RMSprop(lr=0.001, rho=0.9, epsilon=1e-08, decay=0.0)  \n",
    "model.compile(optimizer=rmsprop,loss='binary_crossentropy',  \n",
    "              metrics=['accuracy'])  "
   ]
  },
  {
   "cell_type": "code",
   "execution_count": 88,
   "metadata": {
    "scrolled": true
   },
   "outputs": [
    {
     "name": "stdout",
     "output_type": "stream",
     "text": [
      "Train on 801 samples, validate on 90 samples\n",
      "Epoch 1/100\n",
      "801/801 [==============================] - 0s 375us/step - loss: 0.6263 - acc: 0.6317 - val_loss: 0.5693 - val_acc: 0.6444\n",
      "Epoch 2/100\n",
      "801/801 [==============================] - 0s 41us/step - loss: 0.5890 - acc: 0.6617 - val_loss: 0.5379 - val_acc: 0.7000\n",
      "Epoch 3/100\n",
      "801/801 [==============================] - 0s 31us/step - loss: 0.5662 - acc: 0.6941 - val_loss: 0.5170 - val_acc: 0.7444\n",
      "Epoch 4/100\n",
      "801/801 [==============================] - 0s 32us/step - loss: 0.5492 - acc: 0.7154 - val_loss: 0.5000 - val_acc: 0.7889\n",
      "Epoch 5/100\n",
      "801/801 [==============================] - 0s 34us/step - loss: 0.5333 - acc: 0.7528 - val_loss: 0.4834 - val_acc: 0.7778\n",
      "Epoch 6/100\n",
      "801/801 [==============================] - 0s 31us/step - loss: 0.5173 - acc: 0.7678 - val_loss: 0.4700 - val_acc: 0.8222\n",
      "Epoch 7/100\n",
      "801/801 [==============================] - 0s 30us/step - loss: 0.5030 - acc: 0.7865 - val_loss: 0.4711 - val_acc: 0.8222\n",
      "Epoch 8/100\n",
      "801/801 [==============================] - 0s 32us/step - loss: 0.4928 - acc: 0.7940 - val_loss: 0.4536 - val_acc: 0.8222\n",
      "Epoch 9/100\n",
      "801/801 [==============================] - 0s 30us/step - loss: 0.4826 - acc: 0.8002 - val_loss: 0.4505 - val_acc: 0.8111\n",
      "Epoch 10/100\n",
      "801/801 [==============================] - 0s 30us/step - loss: 0.4734 - acc: 0.8102 - val_loss: 0.4394 - val_acc: 0.8444\n",
      "Epoch 11/100\n",
      "801/801 [==============================] - 0s 31us/step - loss: 0.4699 - acc: 0.8152 - val_loss: 0.4418 - val_acc: 0.8222\n",
      "Epoch 12/100\n",
      "801/801 [==============================] - 0s 30us/step - loss: 0.4626 - acc: 0.8102 - val_loss: 0.4314 - val_acc: 0.8333\n",
      "Epoch 13/100\n",
      "801/801 [==============================] - 0s 30us/step - loss: 0.4585 - acc: 0.8240 - val_loss: 0.4282 - val_acc: 0.8333\n",
      "Epoch 14/100\n",
      "801/801 [==============================] - 0s 30us/step - loss: 0.4550 - acc: 0.8165 - val_loss: 0.4254 - val_acc: 0.8333\n",
      "Epoch 15/100\n",
      "801/801 [==============================] - 0s 31us/step - loss: 0.4498 - acc: 0.8227 - val_loss: 0.4198 - val_acc: 0.8333\n",
      "Epoch 16/100\n",
      "801/801 [==============================] - 0s 31us/step - loss: 0.4452 - acc: 0.8177 - val_loss: 0.4171 - val_acc: 0.8333\n",
      "Epoch 17/100\n",
      "801/801 [==============================] - 0s 32us/step - loss: 0.4419 - acc: 0.8265 - val_loss: 0.4146 - val_acc: 0.8333\n",
      "Epoch 18/100\n",
      "801/801 [==============================] - 0s 30us/step - loss: 0.4397 - acc: 0.8252 - val_loss: 0.4181 - val_acc: 0.8333\n",
      "Epoch 19/100\n",
      "801/801 [==============================] - 0s 31us/step - loss: 0.4377 - acc: 0.8177 - val_loss: 0.4041 - val_acc: 0.8444\n",
      "Epoch 20/100\n",
      "801/801 [==============================] - 0s 32us/step - loss: 0.4346 - acc: 0.8202 - val_loss: 0.4019 - val_acc: 0.8444\n",
      "Epoch 21/100\n",
      "801/801 [==============================] - 0s 31us/step - loss: 0.4327 - acc: 0.8215 - val_loss: 0.4087 - val_acc: 0.8333\n",
      "Epoch 22/100\n",
      "801/801 [==============================] - 0s 30us/step - loss: 0.4286 - acc: 0.8227 - val_loss: 0.4018 - val_acc: 0.8333\n",
      "Epoch 23/100\n",
      "801/801 [==============================] - 0s 31us/step - loss: 0.4272 - acc: 0.8227 - val_loss: 0.4040 - val_acc: 0.8444\n",
      "Epoch 24/100\n",
      "801/801 [==============================] - 0s 31us/step - loss: 0.4254 - acc: 0.8252 - val_loss: 0.3968 - val_acc: 0.8333\n",
      "Epoch 25/100\n",
      "801/801 [==============================] - 0s 31us/step - loss: 0.4241 - acc: 0.8265 - val_loss: 0.3917 - val_acc: 0.8444\n",
      "Epoch 26/100\n",
      "801/801 [==============================] - 0s 30us/step - loss: 0.4202 - acc: 0.8290 - val_loss: 0.3955 - val_acc: 0.8333\n",
      "Epoch 27/100\n",
      "801/801 [==============================] - 0s 32us/step - loss: 0.4202 - acc: 0.8277 - val_loss: 0.4081 - val_acc: 0.8667\n",
      "Epoch 28/100\n",
      "801/801 [==============================] - 0s 31us/step - loss: 0.4183 - acc: 0.8277 - val_loss: 0.4141 - val_acc: 0.8444\n",
      "Epoch 29/100\n",
      "801/801 [==============================] - 0s 32us/step - loss: 0.4179 - acc: 0.8277 - val_loss: 0.3887 - val_acc: 0.8444\n",
      "Epoch 30/100\n",
      "801/801 [==============================] - 0s 29us/step - loss: 0.4164 - acc: 0.8277 - val_loss: 0.3905 - val_acc: 0.8333\n",
      "Epoch 31/100\n",
      "801/801 [==============================] - 0s 32us/step - loss: 0.4145 - acc: 0.8340 - val_loss: 0.3855 - val_acc: 0.8444\n",
      "Epoch 32/100\n",
      "801/801 [==============================] - 0s 30us/step - loss: 0.4136 - acc: 0.8277 - val_loss: 0.3855 - val_acc: 0.8444\n",
      "Epoch 33/100\n",
      "801/801 [==============================] - 0s 31us/step - loss: 0.4131 - acc: 0.8277 - val_loss: 0.3912 - val_acc: 0.8333\n",
      "Epoch 34/100\n",
      "801/801 [==============================] - 0s 30us/step - loss: 0.4124 - acc: 0.8277 - val_loss: 0.3962 - val_acc: 0.8333\n",
      "Epoch 35/100\n",
      "801/801 [==============================] - 0s 31us/step - loss: 0.4117 - acc: 0.8227 - val_loss: 0.3909 - val_acc: 0.8333\n",
      "Epoch 36/100\n",
      "801/801 [==============================] - 0s 29us/step - loss: 0.4100 - acc: 0.8252 - val_loss: 0.3974 - val_acc: 0.8444\n",
      "Epoch 37/100\n",
      "801/801 [==============================] - 0s 32us/step - loss: 0.4094 - acc: 0.8315 - val_loss: 0.3837 - val_acc: 0.8444\n",
      "Epoch 38/100\n",
      "801/801 [==============================] - 0s 30us/step - loss: 0.4095 - acc: 0.8315 - val_loss: 0.3826 - val_acc: 0.8444\n",
      "Epoch 39/100\n",
      "801/801 [==============================] - 0s 31us/step - loss: 0.4077 - acc: 0.8315 - val_loss: 0.4037 - val_acc: 0.8333\n",
      "Epoch 40/100\n",
      "801/801 [==============================] - 0s 31us/step - loss: 0.4046 - acc: 0.8265 - val_loss: 0.3851 - val_acc: 0.8444\n",
      "Epoch 41/100\n",
      "801/801 [==============================] - 0s 30us/step - loss: 0.4061 - acc: 0.8277 - val_loss: 0.3776 - val_acc: 0.8333\n",
      "Epoch 42/100\n",
      "801/801 [==============================] - 0s 30us/step - loss: 0.4056 - acc: 0.8265 - val_loss: 0.3889 - val_acc: 0.8556\n",
      "Epoch 43/100\n",
      "801/801 [==============================] - 0s 32us/step - loss: 0.4054 - acc: 0.8302 - val_loss: 0.3919 - val_acc: 0.8444\n",
      "Epoch 44/100\n",
      "801/801 [==============================] - 0s 32us/step - loss: 0.4021 - acc: 0.8302 - val_loss: 0.3834 - val_acc: 0.8556\n",
      "Epoch 45/100\n",
      "801/801 [==============================] - 0s 32us/step - loss: 0.4037 - acc: 0.8290 - val_loss: 0.3825 - val_acc: 0.8556\n",
      "Epoch 46/100\n",
      "801/801 [==============================] - 0s 31us/step - loss: 0.4029 - acc: 0.8302 - val_loss: 0.3843 - val_acc: 0.8556\n",
      "Epoch 47/100\n",
      "801/801 [==============================] - 0s 31us/step - loss: 0.4029 - acc: 0.8402 - val_loss: 0.3858 - val_acc: 0.8556\n",
      "Epoch 48/100\n",
      "801/801 [==============================] - 0s 31us/step - loss: 0.3997 - acc: 0.8327 - val_loss: 0.3778 - val_acc: 0.8556\n",
      "Epoch 49/100\n",
      "801/801 [==============================] - 0s 31us/step - loss: 0.4029 - acc: 0.8340 - val_loss: 0.3780 - val_acc: 0.8556\n",
      "Epoch 50/100\n",
      "801/801 [==============================] - 0s 31us/step - loss: 0.4015 - acc: 0.8327 - val_loss: 0.3872 - val_acc: 0.8444\n",
      "Epoch 51/100\n",
      "801/801 [==============================] - 0s 30us/step - loss: 0.4020 - acc: 0.8327 - val_loss: 0.3849 - val_acc: 0.8444\n",
      "Epoch 52/100\n",
      "801/801 [==============================] - 0s 30us/step - loss: 0.4012 - acc: 0.8302 - val_loss: 0.3895 - val_acc: 0.8444\n",
      "Epoch 53/100\n",
      "801/801 [==============================] - 0s 30us/step - loss: 0.3994 - acc: 0.8402 - val_loss: 0.3770 - val_acc: 0.8556\n",
      "Epoch 54/100\n",
      "801/801 [==============================] - 0s 31us/step - loss: 0.4027 - acc: 0.8340 - val_loss: 0.3851 - val_acc: 0.8556\n",
      "Epoch 55/100\n",
      "801/801 [==============================] - 0s 34us/step - loss: 0.3991 - acc: 0.8340 - val_loss: 0.3868 - val_acc: 0.8556\n",
      "Epoch 56/100\n",
      "801/801 [==============================] - 0s 30us/step - loss: 0.4003 - acc: 0.8315 - val_loss: 0.3868 - val_acc: 0.8556\n",
      "Epoch 57/100\n",
      "801/801 [==============================] - 0s 31us/step - loss: 0.4002 - acc: 0.8365 - val_loss: 0.3898 - val_acc: 0.8444\n",
      "Epoch 58/100\n",
      "801/801 [==============================] - 0s 32us/step - loss: 0.3985 - acc: 0.8390 - val_loss: 0.3801 - val_acc: 0.8444\n",
      "Epoch 59/100\n",
      "801/801 [==============================] - 0s 34us/step - loss: 0.3969 - acc: 0.8402 - val_loss: 0.3790 - val_acc: 0.8333\n",
      "Epoch 60/100\n",
      "801/801 [==============================] - 0s 35us/step - loss: 0.3999 - acc: 0.8377 - val_loss: 0.3843 - val_acc: 0.8556\n",
      "Epoch 61/100\n"
     ]
    },
    {
     "name": "stdout",
     "output_type": "stream",
     "text": [
      "801/801 [==============================] - 0s 32us/step - loss: 0.3972 - acc: 0.8365 - val_loss: 0.3881 - val_acc: 0.8556\n",
      "Epoch 62/100\n",
      "801/801 [==============================] - 0s 31us/step - loss: 0.3968 - acc: 0.8414 - val_loss: 0.3817 - val_acc: 0.8444\n",
      "Epoch 63/100\n",
      "801/801 [==============================] - 0s 30us/step - loss: 0.3959 - acc: 0.8390 - val_loss: 0.3824 - val_acc: 0.8556\n",
      "Epoch 64/100\n",
      "801/801 [==============================] - 0s 30us/step - loss: 0.3970 - acc: 0.8302 - val_loss: 0.3867 - val_acc: 0.8556\n",
      "Epoch 65/100\n",
      "801/801 [==============================] - 0s 32us/step - loss: 0.3957 - acc: 0.8290 - val_loss: 0.3821 - val_acc: 0.8556\n",
      "Epoch 66/100\n",
      "801/801 [==============================] - 0s 29us/step - loss: 0.3951 - acc: 0.8402 - val_loss: 0.3829 - val_acc: 0.8556\n",
      "Epoch 67/100\n",
      "801/801 [==============================] - 0s 31us/step - loss: 0.3961 - acc: 0.8352 - val_loss: 0.3840 - val_acc: 0.8556\n",
      "Epoch 68/100\n",
      "801/801 [==============================] - 0s 30us/step - loss: 0.3944 - acc: 0.8365 - val_loss: 0.3905 - val_acc: 0.8444\n",
      "Epoch 69/100\n",
      "801/801 [==============================] - 0s 31us/step - loss: 0.3960 - acc: 0.8365 - val_loss: 0.3872 - val_acc: 0.8556\n",
      "Epoch 70/100\n",
      "801/801 [==============================] - 0s 30us/step - loss: 0.3942 - acc: 0.8402 - val_loss: 0.3857 - val_acc: 0.8556\n",
      "Epoch 71/100\n",
      "801/801 [==============================] - 0s 31us/step - loss: 0.3951 - acc: 0.8377 - val_loss: 0.3900 - val_acc: 0.8556\n",
      "Epoch 72/100\n",
      "801/801 [==============================] - 0s 30us/step - loss: 0.3954 - acc: 0.8377 - val_loss: 0.3888 - val_acc: 0.8556\n",
      "Epoch 73/100\n",
      "801/801 [==============================] - 0s 32us/step - loss: 0.3928 - acc: 0.8477 - val_loss: 0.3891 - val_acc: 0.8444\n",
      "Epoch 74/100\n",
      "801/801 [==============================] - 0s 30us/step - loss: 0.3937 - acc: 0.8352 - val_loss: 0.3929 - val_acc: 0.8333\n",
      "Epoch 75/100\n",
      "801/801 [==============================] - 0s 31us/step - loss: 0.3922 - acc: 0.8427 - val_loss: 0.3952 - val_acc: 0.8444\n",
      "Epoch 76/100\n",
      "801/801 [==============================] - 0s 31us/step - loss: 0.3933 - acc: 0.8414 - val_loss: 0.3920 - val_acc: 0.8444\n",
      "Epoch 77/100\n",
      "801/801 [==============================] - 0s 30us/step - loss: 0.3926 - acc: 0.8439 - val_loss: 0.3885 - val_acc: 0.8444\n",
      "Epoch 78/100\n",
      "801/801 [==============================] - 0s 30us/step - loss: 0.3920 - acc: 0.8414 - val_loss: 0.3929 - val_acc: 0.8333\n",
      "Epoch 79/100\n",
      "801/801 [==============================] - 0s 31us/step - loss: 0.3920 - acc: 0.8302 - val_loss: 0.3799 - val_acc: 0.8556\n",
      "Epoch 80/100\n",
      "801/801 [==============================] - 0s 30us/step - loss: 0.3940 - acc: 0.8390 - val_loss: 0.3883 - val_acc: 0.8556\n",
      "Epoch 81/100\n",
      "801/801 [==============================] - 0s 30us/step - loss: 0.3915 - acc: 0.8414 - val_loss: 0.3819 - val_acc: 0.8444\n",
      "Epoch 82/100\n",
      "801/801 [==============================] - 0s 32us/step - loss: 0.3926 - acc: 0.8477 - val_loss: 0.3819 - val_acc: 0.8444\n",
      "Epoch 83/100\n",
      "801/801 [==============================] - 0s 32us/step - loss: 0.3923 - acc: 0.8402 - val_loss: 0.3867 - val_acc: 0.8333\n",
      "Epoch 84/100\n",
      "801/801 [==============================] - 0s 31us/step - loss: 0.3919 - acc: 0.8402 - val_loss: 0.3847 - val_acc: 0.8444\n",
      "Epoch 85/100\n",
      "801/801 [==============================] - 0s 31us/step - loss: 0.3910 - acc: 0.8390 - val_loss: 0.3900 - val_acc: 0.8444\n",
      "Epoch 86/100\n",
      "801/801 [==============================] - 0s 30us/step - loss: 0.3899 - acc: 0.8427 - val_loss: 0.3946 - val_acc: 0.8333\n",
      "Epoch 87/100\n",
      "801/801 [==============================] - 0s 30us/step - loss: 0.3902 - acc: 0.8377 - val_loss: 0.3837 - val_acc: 0.8556\n",
      "Epoch 88/100\n",
      "801/801 [==============================] - 0s 31us/step - loss: 0.3902 - acc: 0.8402 - val_loss: 0.3959 - val_acc: 0.8222\n",
      "Epoch 89/100\n",
      "801/801 [==============================] - 0s 30us/step - loss: 0.3894 - acc: 0.8427 - val_loss: 0.3856 - val_acc: 0.8556\n",
      "Epoch 90/100\n",
      "801/801 [==============================] - 0s 31us/step - loss: 0.3897 - acc: 0.8390 - val_loss: 0.3893 - val_acc: 0.8333\n",
      "Epoch 91/100\n",
      "801/801 [==============================] - 0s 30us/step - loss: 0.3907 - acc: 0.8402 - val_loss: 0.3861 - val_acc: 0.8444\n",
      "Epoch 92/100\n",
      "801/801 [==============================] - 0s 30us/step - loss: 0.3878 - acc: 0.8414 - val_loss: 0.3978 - val_acc: 0.8000\n",
      "Epoch 93/100\n",
      "801/801 [==============================] - 0s 30us/step - loss: 0.3891 - acc: 0.8439 - val_loss: 0.3830 - val_acc: 0.8556\n",
      "Epoch 94/100\n",
      "801/801 [==============================] - 0s 34us/step - loss: 0.3895 - acc: 0.8365 - val_loss: 0.3890 - val_acc: 0.8333\n",
      "Epoch 95/100\n",
      "801/801 [==============================] - 0s 31us/step - loss: 0.3900 - acc: 0.8402 - val_loss: 0.3854 - val_acc: 0.8444\n",
      "Epoch 96/100\n",
      "801/801 [==============================] - 0s 30us/step - loss: 0.3873 - acc: 0.8452 - val_loss: 0.3812 - val_acc: 0.8556\n",
      "Epoch 97/100\n",
      "801/801 [==============================] - 0s 31us/step - loss: 0.3893 - acc: 0.8439 - val_loss: 0.3875 - val_acc: 0.8444\n",
      "Epoch 98/100\n",
      "801/801 [==============================] - 0s 30us/step - loss: 0.3848 - acc: 0.8427 - val_loss: 0.3806 - val_acc: 0.8556\n",
      "Epoch 99/100\n",
      "801/801 [==============================] - 0s 29us/step - loss: 0.3904 - acc: 0.8439 - val_loss: 0.3846 - val_acc: 0.8556\n",
      "Epoch 100/100\n",
      "801/801 [==============================] - 0s 31us/step - loss: 0.3871 - acc: 0.8402 - val_loss: 0.3896 - val_acc: 0.8333\n"
     ]
    }
   ],
   "source": [
    "train_model = model.fit(train_data_x, train_data_y, validation_split=0.1, epochs = 100, batch_size = 30)"
   ]
  },
  {
   "cell_type": "code",
   "execution_count": 89,
   "metadata": {},
   "outputs": [],
   "source": [
    "def show_train_history(train_history, train, validation):\n",
    "    plt.plot(train_history.history[train])\n",
    "    plt.plot(train_history.history[validation])\n",
    "    plt.title('Train History')\n",
    "    plt.ylabel('train')\n",
    "    plt.xlabel('Epoch')\n",
    "    plt.legend(['train', 'validation'], loc='center right')\n",
    "    plt.show()"
   ]
  },
  {
   "cell_type": "markdown",
   "metadata": {},
   "source": [
    "結果"
   ]
  },
  {
   "cell_type": "code",
   "execution_count": 90,
   "metadata": {},
   "outputs": [
    {
     "data": {
      "image/png": "[encoded data removed]",
      "text/plain": [
       "<matplotlib.figure.Figure at 0x1a47ea26a90>"
      ]
     },
     "metadata": {},
     "output_type": "display_data"
    }
   ],
   "source": [
    "show_train_history(train_model, 'acc', 'val_acc')"
   ]
  },
  {
   "cell_type": "code",
   "execution_count": 91,
   "metadata": {},
   "outputs": [
    {
     "data": {
      "image/png": "[encoded data removed]",
      "text/plain": [
       "<matplotlib.figure.Figure at 0x1a47ea26a20>"
      ]
     },
     "metadata": {},
     "output_type": "display_data"
    }
   ],
   "source": [
    "show_train_history(train_model, 'loss', 'val_loss')"
   ]
  },
  {
   "cell_type": "code",
   "execution_count": 92,
   "metadata": {
    "scrolled": true
   },
   "outputs": [],
   "source": [
    "test_data['predict'] = model.predict(test_data)"
   ]
  },
  {
   "cell_type": "code",
   "execution_count": 93,
   "metadata": {
    "scrolled": true
   },
   "outputs": [],
   "source": [
    "test_data['PassengerId'] =pd.read_csv(\"test.csv\").PassengerId"
   ]
  },
  {
   "cell_type": "code",
   "execution_count": 97,
   "metadata": {},
   "outputs": [],
   "source": [
    "test_data['Survived']  = test_data['predict'].apply(lambda x:1 if x >=0.5 else 0)"
   ]
  },
  {
   "cell_type": "code",
   "execution_count": 102,
   "metadata": {},
   "outputs": [],
   "source": [
    "sub = test_data[['PassengerId', 'Survived']]\n",
    "sub.to_csv(\"gender_submission0607.csv\" , encoding = \"utf-8\")"
   ]
  },
  {
   "cell_type": "markdown",
   "metadata": {},
   "source": [
    "## 提交後效果"
   ]
  },
  {
   "attachments": {},
   "cell_type": "markdown",
   "metadata": {},
   "source": [
    "![](https://i.imgur.com/Cp3YBx1.png)"
   ]
  }
 ],
 "metadata": {
  "kernelspec": {
   "display_name": "Python 3",
   "language": "python",
   "name": "python3"
  },
  "language_info": {
   "codemirror_mode": {
    "name": "ipython",
    "version": 3
   },
   "file_extension": ".py",
   "mimetype": "text/x-python",
   "name": "python",
   "nbconvert_exporter": "python",
   "pygments_lexer": "ipython3",
   "version": "3.6.4"
  }
 },
 "nbformat": 4,
 "nbformat_minor": 2
}
